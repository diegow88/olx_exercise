{
 "cells": [
  {
   "cell_type": "code",
   "execution_count": 1,
   "metadata": {
    "collapsed": true
   },
   "outputs": [],
   "source": [
    "import pandas\n",
    "from sklearn.cluster import KMeans\n",
    "import matplotlib.pyplot as plt\n",
    "import numpy as np\n",
    "%matplotlib inline"
   ]
  },
  {
   "cell_type": "code",
   "execution_count": 2,
   "metadata": {
    "collapsed": true
   },
   "outputs": [],
   "source": [
    "filename = \"./data/za_sample_listings_incl_cat.csv\""
   ]
  },
  {
   "cell_type": "code",
   "execution_count": 3,
   "metadata": {
    "collapsed": false,
    "scrolled": false
   },
   "outputs": [
    {
     "name": "stderr",
     "output_type": "stream",
     "text": [
      "C:\\Users\\Diego\\AppData\\Local\\Continuum\\Anaconda2\\lib\\site-packages\\IPython\\core\\interactiveshell.py:2723: DtypeWarning: Columns (2,5) have mixed types. Specify dtype option on import or set low_memory=False.\n",
      "  interactivity=interactivity, compiler=compiler, result=result)\n"
     ]
    }
   ],
   "source": [
    "listing = pandas.read_csv(filename, skip_blank_lines=True, quotechar='\"',\n",
    "                          header=0,\n",
    "                          usecols=[\"item_id\", \"seller_id\", \"listing_title\", \"listing_description\", \"listing_price\", \"category_sk\", \"listing_latitude\", \"listing_longitude\"])"
   ]
  },
  {
   "cell_type": "code",
   "execution_count": 4,
   "metadata": {
    "collapsed": false
   },
   "outputs": [
    {
     "data": {
      "text/html": [
       "<div>\n",
       "<table border=\"1\" class=\"dataframe\">\n",
       "  <thead>\n",
       "    <tr style=\"text-align: right;\">\n",
       "      <th></th>\n",
       "      <th>item_id</th>\n",
       "      <th>seller_id</th>\n",
       "      <th>listing_title</th>\n",
       "      <th>listing_description</th>\n",
       "      <th>listing_price</th>\n",
       "      <th>category_sk</th>\n",
       "      <th>listing_latitude</th>\n",
       "      <th>listing_longitude</th>\n",
       "    </tr>\n",
       "  </thead>\n",
       "  <tbody>\n",
       "    <tr>\n",
       "      <th>0</th>\n",
       "      <td>0.0</td>\n",
       "      <td>0</td>\n",
       "      <td>Nice wooden makes</td>\n",
       "      <td>We build all different types for sale</td>\n",
       "      <td>17500.00</td>\n",
       "      <td>olx|mea|za|806|809</td>\n",
       "      <td>-25.43067</td>\n",
       "      <td>27.84873</td>\n",
       "    </tr>\n",
       "    <tr>\n",
       "      <th>1</th>\n",
       "      <td>1.0</td>\n",
       "      <td>1</td>\n",
       "      <td>A Shinning 2013 Chevrolet 1.4 Utility Bakkie w...</td>\n",
       "      <td>A Stunning accident free bargain that has just...</td>\n",
       "      <td>94890.00</td>\n",
       "      <td>olx|mea|za|362|378|2012</td>\n",
       "      <td>-29.73714</td>\n",
       "      <td>31.07364</td>\n",
       "    </tr>\n",
       "    <tr>\n",
       "      <th>2</th>\n",
       "      <td>2.0</td>\n",
       "      <td>2</td>\n",
       "      <td>Lampshades various</td>\n",
       "      <td>A variety of lampshades in white</td>\n",
       "      <td>20.00</td>\n",
       "      <td>olx|mea|za|806|807</td>\n",
       "      <td>-33.88159</td>\n",
       "      <td>18.55522</td>\n",
       "    </tr>\n",
       "    <tr>\n",
       "      <th>3</th>\n",
       "      <td>3.0</td>\n",
       "      <td>3</td>\n",
       "      <td>Toyota Corolla</td>\n",
       "      <td>Toyota Corolla 1.3 Professional, Front Electri...</td>\n",
       "      <td>63995.00</td>\n",
       "      <td>olx|mea|za|362|378|2067</td>\n",
       "      <td>-26.10757</td>\n",
       "      <td>28.05670</td>\n",
       "    </tr>\n",
       "    <tr>\n",
       "      <th>4</th>\n",
       "      <td>4.0</td>\n",
       "      <td>4</td>\n",
       "      <td>bench grinder and buffer</td>\n",
       "      <td>bench grinder and.buffer...R800 for both</td>\n",
       "      <td>800.00</td>\n",
       "      <td>olx|mea|za|806|910</td>\n",
       "      <td>-26.17190</td>\n",
       "      <td>27.91318</td>\n",
       "    </tr>\n",
       "    <tr>\n",
       "      <th>5</th>\n",
       "      <td>5.0</td>\n",
       "      <td>5</td>\n",
       "      <td>louvre wendies R4700</td>\n",
       "      <td>0837572535 for  Wendies</td>\n",
       "      <td>4700.00</td>\n",
       "      <td>olx|mea|za|806|807</td>\n",
       "      <td>-23.66647</td>\n",
       "      <td>27.74483</td>\n",
       "    </tr>\n",
       "    <tr>\n",
       "      <th>6</th>\n",
       "      <td>6.0</td>\n",
       "      <td>6</td>\n",
       "      <td>Kic. Silver fridge 340 liter</td>\n",
       "      <td>Very good condition working almost new</td>\n",
       "      <td>2400.00</td>\n",
       "      <td>olx|mea|za|806|808</td>\n",
       "      <td>-34.00845</td>\n",
       "      <td>18.46618</td>\n",
       "    </tr>\n",
       "    <tr>\n",
       "      <th>7</th>\n",
       "      <td>7.0</td>\n",
       "      <td>7</td>\n",
       "      <td>2011 Kia Cerato hatch-back</td>\n",
       "      <td>2011 Kia Cerato hatch back 2.0 engine for sale...</td>\n",
       "      <td>90000.00</td>\n",
       "      <td>olx|mea|za|362|378|2035</td>\n",
       "      <td>-26.20410</td>\n",
       "      <td>28.04731</td>\n",
       "    </tr>\n",
       "    <tr>\n",
       "      <th>8</th>\n",
       "      <td>8.0</td>\n",
       "      <td>8</td>\n",
       "      <td>Mini Hatch Cooper for sale</td>\n",
       "      <td>Black Cloth Seats, Panoramic Sunroof, Black ma...</td>\n",
       "      <td>74990.00</td>\n",
       "      <td>olx|mea|za|362|378|2047</td>\n",
       "      <td>-26.22044</td>\n",
       "      <td>27.96590</td>\n",
       "    </tr>\n",
       "    <tr>\n",
       "      <th>9</th>\n",
       "      <td>9.0</td>\n",
       "      <td>9</td>\n",
       "      <td>Richard Newman wendies</td>\n",
       "      <td>We do all types of wood and sizes 0739020925</td>\n",
       "      <td>6800.00</td>\n",
       "      <td>olx|mea|za|806|807</td>\n",
       "      <td>-26.32239</td>\n",
       "      <td>28.12397</td>\n",
       "    </tr>\n",
       "    <tr>\n",
       "      <th>10</th>\n",
       "      <td>10.0</td>\n",
       "      <td>10</td>\n",
       "      <td>Volkswagen S40 2.0 Powershift_2010</td>\n",
       "      <td>For great deals on pre-used vehicles, contact ...</td>\n",
       "      <td>99000.00</td>\n",
       "      <td>olx|mea|za|362|378|2070</td>\n",
       "      <td>-26.85982</td>\n",
       "      <td>26.63175</td>\n",
       "    </tr>\n",
       "  </tbody>\n",
       "</table>\n",
       "</div>"
      ],
      "text/plain": [
       "    item_id seller_id                                      listing_title  \\\n",
       "0       0.0         0                                  Nice wooden makes   \n",
       "1       1.0         1  A Shinning 2013 Chevrolet 1.4 Utility Bakkie w...   \n",
       "2       2.0         2                                 Lampshades various   \n",
       "3       3.0         3                                     Toyota Corolla   \n",
       "4       4.0         4                           bench grinder and buffer   \n",
       "5       5.0         5                               louvre wendies R4700   \n",
       "6       6.0         6                       Kic. Silver fridge 340 liter   \n",
       "7       7.0         7                         2011 Kia Cerato hatch-back   \n",
       "8       8.0         8                         Mini Hatch Cooper for sale   \n",
       "9       9.0         9                             Richard Newman wendies   \n",
       "10     10.0        10                 Volkswagen S40 2.0 Powershift_2010   \n",
       "\n",
       "                                  listing_description listing_price  \\\n",
       "0               We build all different types for sale      17500.00   \n",
       "1   A Stunning accident free bargain that has just...      94890.00   \n",
       "2                    A variety of lampshades in white         20.00   \n",
       "3   Toyota Corolla 1.3 Professional, Front Electri...      63995.00   \n",
       "4            bench grinder and.buffer...R800 for both        800.00   \n",
       "5                             0837572535 for  Wendies       4700.00   \n",
       "6              Very good condition working almost new       2400.00   \n",
       "7   2011 Kia Cerato hatch back 2.0 engine for sale...      90000.00   \n",
       "8   Black Cloth Seats, Panoramic Sunroof, Black ma...      74990.00   \n",
       "9        We do all types of wood and sizes 0739020925       6800.00   \n",
       "10  For great deals on pre-used vehicles, contact ...      99000.00   \n",
       "\n",
       "                category_sk  listing_latitude  listing_longitude  \n",
       "0        olx|mea|za|806|809         -25.43067           27.84873  \n",
       "1   olx|mea|za|362|378|2012         -29.73714           31.07364  \n",
       "2        olx|mea|za|806|807         -33.88159           18.55522  \n",
       "3   olx|mea|za|362|378|2067         -26.10757           28.05670  \n",
       "4        olx|mea|za|806|910         -26.17190           27.91318  \n",
       "5        olx|mea|za|806|807         -23.66647           27.74483  \n",
       "6        olx|mea|za|806|808         -34.00845           18.46618  \n",
       "7   olx|mea|za|362|378|2035         -26.20410           28.04731  \n",
       "8   olx|mea|za|362|378|2047         -26.22044           27.96590  \n",
       "9        olx|mea|za|806|807         -26.32239           28.12397  \n",
       "10  olx|mea|za|362|378|2070         -26.85982           26.63175  "
      ]
     },
     "execution_count": 4,
     "metadata": {},
     "output_type": "execute_result"
    }
   ],
   "source": [
    "listing.head(11)"
   ]
  },
  {
   "cell_type": "code",
   "execution_count": 5,
   "metadata": {
    "collapsed": false
   },
   "outputs": [],
   "source": [
    "# Extract the category codes from each item. I only use the first two levels of hierarchy\n",
    "categories = listing[\"category_sk\"].str.extract(\".*\\|.*\\|.*\\|(?P<cat1>\\d+)\\|(?P<cat2>\\d+)[\\|.*]?\", expand=False)"
   ]
  },
  {
   "cell_type": "code",
   "execution_count": 6,
   "metadata": {
    "collapsed": false
   },
   "outputs": [],
   "source": [
    "# Add the categories to the current list\n",
    "processed_list = listing.join(categories)"
   ]
  },
  {
   "cell_type": "markdown",
   "metadata": {},
   "source": [
    "After analyzing the input file, I found that there were entries with missing columns or values that didn't correspond to the column type. I counted the number of anomalies and the value is around 8k, which is around 0.16% of the entire training set. It seemed reasonable that those entries were not significant to the entire population and were removed."
   ]
  },
  {
   "cell_type": "code",
   "execution_count": 7,
   "metadata": {
    "collapsed": false
   },
   "outputs": [],
   "source": [
    "processed_list = processed_list.dropna()"
   ]
  },
  {
   "cell_type": "code",
   "execution_count": 8,
   "metadata": {
    "collapsed": false
   },
   "outputs": [
    {
     "data": {
      "text/plain": [
       "item_id                491878\n",
       "seller_id              491878\n",
       "listing_title          491878\n",
       "listing_description    491878\n",
       "listing_price          491878\n",
       "category_sk            491878\n",
       "listing_latitude       491878\n",
       "listing_longitude      491878\n",
       "cat1                   491878\n",
       "cat2                   491878\n",
       "dtype: int64"
      ]
     },
     "execution_count": 8,
     "metadata": {},
     "output_type": "execute_result"
    }
   ],
   "source": [
    "# Constatntly used this function to check if there was any discrepancy over the number of elements in each column.\n",
    "processed_list.count()"
   ]
  },
  {
   "cell_type": "code",
   "execution_count": 9,
   "metadata": {
    "collapsed": false
   },
   "outputs": [],
   "source": [
    "processed_list[\"listing_price\"] = processed_list[\"listing_price\"].astype(\"float\")"
   ]
  },
  {
   "cell_type": "code",
   "execution_count": 10,
   "metadata": {
    "collapsed": true
   },
   "outputs": [],
   "source": [
    "processed_list[\"listing_latitude\"] = processed_list[\"listing_latitude\"].astype(\"float\")\n",
    "processed_list[\"listing_longitude\"] = processed_list[\"listing_longitude\"].astype(\"float\")"
   ]
  },
  {
   "cell_type": "code",
   "execution_count": 11,
   "metadata": {
    "collapsed": false
   },
   "outputs": [],
   "source": [
    "processed_list[\"cat1\"] = processed_list[\"cat1\"].astype(\"category\")\n",
    "processed_list[\"cat2\"] = processed_list[\"cat2\"].astype(\"category\")"
   ]
  },
  {
   "cell_type": "code",
   "execution_count": 12,
   "metadata": {
    "collapsed": true
   },
   "outputs": [],
   "source": [
    "training = processed_list[[\"listing_price\", \"cat1\", \"cat2\", \"listing_latitude\", \"listing_longitude\"]]"
   ]
  },
  {
   "cell_type": "code",
   "execution_count": 13,
   "metadata": {
    "collapsed": true
   },
   "outputs": [],
   "source": [
    "# Currently manually set but should be determined with a grid search\n",
    "number_clusters = 500"
   ]
  },
  {
   "cell_type": "code",
   "execution_count": 14,
   "metadata": {
    "collapsed": false
   },
   "outputs": [],
   "source": [
    "# Cluster the items based on the subset of features. Set the number of clusters\n",
    "kmeans = KMeans(n_clusters=number_clusters, random_state=0).fit(training)"
   ]
  },
  {
   "cell_type": "code",
   "execution_count": 15,
   "metadata": {
    "collapsed": false
   },
   "outputs": [],
   "source": [
    "# Get the cluster corresponding to new items\n",
    "predictions = kmeans.predict([[20000, 806, 809, -29.73714, 31.07364], [100000, 362, 378, -29.73714, 31.07364]])"
   ]
  },
  {
   "cell_type": "code",
   "execution_count": 18,
   "metadata": {
    "collapsed": false
   },
   "outputs": [
    {
     "name": "stdout",
     "output_type": "stream",
     "text": [
      "(array([    52,     64,    101, ..., 491503, 491521, 491624], dtype=int64),)\n",
      "(array([    10,     85,    175, ..., 491289, 491532, 491635], dtype=int64),)\n"
     ]
    }
   ],
   "source": [
    "# Display the items in the clusters assignated to the new items.\n",
    "for prediction in predictions:\n",
    "    print(np.where(kmeans.labels_ == prediction ))"
   ]
  },
  {
   "cell_type": "code",
   "execution_count": 19,
   "metadata": {
    "collapsed": false
   },
   "outputs": [
    {
     "data": {
      "text/plain": [
       "<matplotlib.text.Text at 0x1d6b4cf8>"
      ]
     },
     "execution_count": 19,
     "metadata": {},
     "output_type": "execute_result"
    },
    {
     "data": {
      "image/png": "[encoded data removed]",
      "text/plain": [
       "<matplotlib.figure.Figure at 0x13490a58>"
      ]
     },
     "metadata": {},
     "output_type": "display_data"
    }
   ],
   "source": [
    "# Plot the distribution of items in the clusters.\n",
    "x = processed_list[\"listing_price\"].as_matrix()\n",
    "plt.hist(kmeans.labels_)\n",
    "plt.ylabel('Counts')\n",
    "plt.xlabel('Clusters')"
   ]
  },
  {
   "cell_type": "code",
   "execution_count": null,
   "metadata": {
    "collapsed": true
   },
   "outputs": [],
   "source": []
  }
 ],
 "metadata": {
  "anaconda-cloud": {},
  "kernelspec": {
   "display_name": "Python [Root]",
   "language": "python",
   "name": "Python [Root]"
  },
  "language_info": {
   "codemirror_mode": {
    "name": "ipython",
    "version": 2
   },
   "file_extension": ".py",
   "mimetype": "text/x-python",
   "name": "python",
   "nbconvert_exporter": "python",
   "pygments_lexer": "ipython2",
   "version": "2.7.12"
  }
 },
 "nbformat": 4,
 "nbformat_minor": 0
}
